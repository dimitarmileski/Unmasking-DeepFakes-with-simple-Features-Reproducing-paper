{
 "cells": [
  {
   "cell_type": "code",
   "execution_count": 9,
   "metadata": {},
   "outputs": [
    {
     "name": "stderr",
     "output_type": "stream",
     "text": [
      "Traceback (most recent call last):\n",
      "  File \"C:\\Users\\Dimitar\\Anaconda3\\Scripts\\jupyter-nbconvert-script.py\", line 10, in <module>\n",
      "    sys.exit(main())\n",
      "  File \"C:\\Users\\Dimitar\\AppData\\Roaming\\Python\\Python37\\site-packages\\jupyter_core\\application.py\", line 270, in launch_instance\n",
      "    return super(JupyterApp, cls).launch_instance(argv=argv, **kwargs)\n",
      "  File \"C:\\Users\\Dimitar\\AppData\\Roaming\\Python\\Python37\\site-packages\\traitlets\\config\\application.py\", line 663, in launch_instance\n",
      "    app.initialize(argv)\n",
      "  File \"<C:\\Users\\Dimitar\\AppData\\Roaming\\Python\\Python37\\site-packages\\decorator.py:decorator-gen-7>\", line 2, in initialize\n",
      "  File \"C:\\Users\\Dimitar\\AppData\\Roaming\\Python\\Python37\\site-packages\\traitlets\\config\\application.py\", line 87, in catch_config_error\n",
      "    return method(app, *args, **kwargs)\n",
      "  File \"C:\\Users\\Dimitar\\AppData\\Roaming\\Python\\Python37\\site-packages\\nbconvert\\nbconvertapp.py\", line 284, in initialize\n",
      "    super(NbConvertApp, self).initialize(argv)\n",
      "  File \"<C:\\Users\\Dimitar\\AppData\\Roaming\\Python\\Python37\\site-packages\\decorator.py:decorator-gen-6>\", line 2, in initialize\n",
      "  File \"C:\\Users\\Dimitar\\AppData\\Roaming\\Python\\Python37\\site-packages\\traitlets\\config\\application.py\", line 87, in catch_config_error\n",
      "    return method(app, *args, **kwargs)\n",
      "  File \"C:\\Users\\Dimitar\\AppData\\Roaming\\Python\\Python37\\site-packages\\jupyter_core\\application.py\", line 241, in initialize\n",
      "    self.parse_command_line(argv)\n",
      "  File \"<C:\\Users\\Dimitar\\AppData\\Roaming\\Python\\Python37\\site-packages\\decorator.py:decorator-gen-4>\", line 2, in parse_command_line\n",
      "  File \"C:\\Users\\Dimitar\\AppData\\Roaming\\Python\\Python37\\site-packages\\traitlets\\config\\application.py\", line 87, in catch_config_error\n",
      "    return method(app, *args, **kwargs)\n",
      "  File \"C:\\Users\\Dimitar\\AppData\\Roaming\\Python\\Python37\\site-packages\\traitlets\\config\\application.py\", line 539, in parse_command_line\n",
      "    self.update_config(self.cli_config)\n",
      "  File \"C:\\Users\\Dimitar\\AppData\\Roaming\\Python\\Python37\\site-packages\\traitlets\\config\\configurable.py\", line 198, in update_config\n",
      "    self._load_config(config)\n",
      "  File \"C:\\Users\\Dimitar\\AppData\\Roaming\\Python\\Python37\\site-packages\\traitlets\\config\\configurable.py\", line 168, in _load_config\n",
      "    warn(msg)\n",
      "  File \"C:\\Users\\Dimitar\\Anaconda3\\lib\\contextlib.py\", line 119, in __exit__\n",
      "    next(self.gen)\n",
      "  File \"C:\\Users\\Dimitar\\AppData\\Roaming\\Python\\Python37\\site-packages\\traitlets\\traitlets.py\", line 1131, in hold_trait_notifications\n",
      "    self.notify_change(change)\n",
      "  File \"C:\\Users\\Dimitar\\AppData\\Roaming\\Python\\Python37\\site-packages\\traitlets\\traitlets.py\", line 1176, in notify_change\n",
      "    c(change)\n",
      "  File \"C:\\Users\\Dimitar\\AppData\\Roaming\\Python\\Python37\\site-packages\\nbconvert\\nbconvertapp.py\", line 258, in _postprocessor_class_changed\n",
      "    self.postprocessor_factory = import_item(new)\n",
      "  File \"C:\\Users\\Dimitar\\AppData\\Roaming\\Python\\Python37\\site-packages\\traitlets\\utils\\importstring.py\", line 42, in import_item\n",
      "    return __import__(parts[0])\n",
      "ModuleNotFoundError: No module named 'pdf'\n"
     ]
    }
   ],
   "source": [
    "! jupyter nbconvert --to latex --template citations.tplx Mi-IKT_First_Partial_Exam.ipynb"
   ]
  },
  {
   "cell_type": "code",
   "execution_count": null,
   "metadata": {},
   "outputs": [],
   "source": []
  }
 ],
 "metadata": {
  "kernelspec": {
   "display_name": "Python 3",
   "language": "python",
   "name": "python3"
  },
  "language_info": {
   "codemirror_mode": {
    "name": "ipython",
    "version": 3
   },
   "file_extension": ".py",
   "mimetype": "text/x-python",
   "name": "python",
   "nbconvert_exporter": "python",
   "pygments_lexer": "ipython3",
   "version": "3.7.4"
  }
 },
 "nbformat": 4,
 "nbformat_minor": 4
}
